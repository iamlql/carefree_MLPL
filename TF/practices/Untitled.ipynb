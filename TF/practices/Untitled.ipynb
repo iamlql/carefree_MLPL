{
 "cells": [
  {
   "cell_type": "code",
   "execution_count": 1,
   "metadata": {},
   "outputs": [
    {
     "name": "stderr",
     "output_type": "stream",
     "text": [
      "/home/luql/anaconda2/envs/py3/lib/python3.6/importlib/_bootstrap.py:219: RuntimeWarning: compiletime version 3.5 of module 'tensorflow.python.framework.fast_tensor_util' does not match runtime version 3.6\n",
      "  return f(*args, **kwds)\n"
     ]
    }
   ],
   "source": [
    "import tensorflow as tf\n",
    "import cv2\n",
    "image_file = \"dog_3184.jpg\"\n",
    "image_raw = tf.gfile.FastGFile(image_file,'rb').read()"
   ]
  },
  {
   "cell_type": "code",
   "execution_count": null,
   "metadata": {
    "collapsed": true
   },
   "outputs": [],
   "source": [
    "image = tf.image.decode_jpeg(image_raw)"
   ]
  },
  {
   "cell_type": "code",
   "execution_count": null,
   "metadata": {},
   "outputs": [
    {
     "name": "stdout",
     "output_type": "stream",
     "text": [
      "[[[146 153 159]\n",
      "  [146 153 159]\n",
      "  [146 153 159]\n",
      "  ..., \n",
      "  [197 192 188]\n",
      "  [197 192 188]\n",
      "  [197 192 188]]\n",
      "\n",
      " [[145 152 158]\n",
      "  [145 152 158]\n",
      "  [145 152 158]\n",
      "  ..., \n",
      "  [202 197 193]\n",
      "  [202 197 193]\n",
      "  [202 197 193]]\n",
      "\n",
      " [[145 152 158]\n",
      "  [145 152 158]\n",
      "  [145 152 158]\n",
      "  ..., \n",
      "  [205 200 196]\n",
      "  [205 200 196]\n",
      "  [205 200 196]]\n",
      "\n",
      " ..., \n",
      " [[ 70  62  59]\n",
      "  [ 79  71  68]\n",
      "  [ 73  65  62]\n",
      "  ..., \n",
      "  [ 93  88  85]\n",
      "  [ 94  89  86]\n",
      "  [ 94  89  86]]\n",
      "\n",
      " [[ 68  60  57]\n",
      "  [ 75  67  64]\n",
      "  [ 69  61  58]\n",
      "  ..., \n",
      "  [ 79  74  71]\n",
      "  [ 78  73  70]\n",
      "  [ 75  70  67]]\n",
      "\n",
      " [[ 71  63  60]\n",
      "  [ 74  66  63]\n",
      "  [ 67  59  56]\n",
      "  ..., \n",
      "  [ 59  53  53]\n",
      "  [ 51  45  45]\n",
      "  [ 42  36  36]]]\n"
     ]
    }
   ],
   "source": [
    "with tf.Session() as sess:\n",
    "    print(image.eval())\n",
    "    cv2.imshow(\"image\", image.eval())\n",
    "    cv2.waitKey(0)\n",
    "    cv2.destroyAllWindows()"
   ]
  },
  {
   "cell_type": "code",
   "execution_count": null,
   "metadata": {},
   "outputs": [],
   "source": []
  },
  {
   "cell_type": "code",
   "execution_count": null,
   "metadata": {
    "collapsed": true
   },
   "outputs": [],
   "source": [
    "    "
   ]
  },
  {
   "cell_type": "code",
   "execution_count": null,
   "metadata": {
    "collapsed": true
   },
   "outputs": [],
   "source": []
  },
  {
   "cell_type": "code",
   "execution_count": null,
   "metadata": {
    "collapsed": true
   },
   "outputs": [],
   "source": []
  },
  {
   "cell_type": "code",
   "execution_count": null,
   "metadata": {
    "collapsed": true
   },
   "outputs": [],
   "source": []
  }
 ],
 "metadata": {
  "kernelspec": {
   "display_name": "Python 3",
   "language": "python",
   "name": "python3"
  },
  "language_info": {
   "codemirror_mode": {
    "name": "ipython",
    "version": 3
   },
   "file_extension": ".py",
   "mimetype": "text/x-python",
   "name": "python",
   "nbconvert_exporter": "python",
   "pygments_lexer": "ipython3",
   "version": "3.6.3"
  }
 },
 "nbformat": 4,
 "nbformat_minor": 2
}
